{
 "cells": [
  {
   "cell_type": "code",
   "execution_count": 1,
   "metadata": {},
   "outputs": [],
   "source": [
    "import torch"
   ]
  },
  {
   "cell_type": "code",
   "execution_count": 2,
   "metadata": {},
   "outputs": [
    {
     "name": "stdout",
     "output_type": "stream",
     "text": [
      "Number of GPU:  1\n",
      "GPU Name:  NVIDIA GeForce RTX 3060 Laptop GPU\n",
      "Using device: cuda\n"
     ]
    }
   ],
   "source": [
    "print(\"Number of GPU: \", torch.cuda.device_count())\n",
    "print(\"GPU Name: \", torch.cuda.get_device_name())\n",
    "device = torch.device('cuda' if torch.cuda.is_available() else 'cpu')\n",
    "print('Using device:', device)"
   ]
  },
  {
   "cell_type": "code",
   "execution_count": 5,
   "metadata": {},
   "outputs": [
    {
     "name": "stdout",
     "output_type": "stream",
     "text": [
      "CPU Time: 0.0354 seconds\n",
      "GPU Time: 0.0030 seconds\n",
      "GPU is 11.92 times faster than CPU.\n"
     ]
    }
   ],
   "source": [
    "import torch\n",
    "import time\n",
    "\n",
    "# Set the size of the array\n",
    "N = 100_000_000  # Increase size for better GPU utilization\n",
    "\n",
    "# Initialize two large tensors on the CPU\n",
    "a_cpu = torch.randn(N)\n",
    "b_cpu = torch.randn(N)\n",
    "\n",
    "# Perform addition on the CPU and measure time\n",
    "start_time = time.time()\n",
    "c_cpu = a_cpu + b_cpu\n",
    "cpu_time = time.time() - start_time\n",
    "print(f\"CPU Time: {cpu_time:.4f} seconds\")\n",
    "\n",
    "# Move tensors to the GPU\n",
    "a_gpu = a_cpu.to('cuda')\n",
    "b_gpu = b_cpu.to('cuda')\n",
    "\n",
    "# Perform addition on the GPU and measure time\n",
    "torch.cuda.synchronize()  # Ensure any previous CUDA work is complete\n",
    "start_time = time.time()\n",
    "c_gpu = a_gpu + b_gpu\n",
    "torch.cuda.synchronize()  # Wait for GPU to finish\n",
    "gpu_time = time.time() - start_time\n",
    "print(f\"GPU Time: {gpu_time:.4f} seconds\")\n",
    "\n",
    "# Display the speedup\n",
    "speedup = cpu_time / gpu_time\n",
    "print(f\"GPU is {speedup:.2f} times faster than CPU.\")\n"
   ]
  },
  {
   "cell_type": "code",
   "execution_count": 8,
   "metadata": {},
   "outputs": [],
   "source": [
    "def testGPUTrigger():\n",
    "    import torch\n",
    "    import time\n",
    "\n",
    "    # Check if CUDA is available\n",
    "    if not torch.cuda.is_available():\n",
    "        print(\"CUDA is not available. Please ensure you have a compatible GPU.\")\n",
    "    else:\n",
    "        print(f\"Using GPU: {torch.cuda.get_device_name(0)}\")\n",
    "\n",
    "    # Define the size of the workload\n",
    "    matrix_size = 5000  # Adjust this size to increase workload and GPU usage\n",
    "\n",
    "    # Create two large random matrices on the GPU\n",
    "    print(\"Initializing workload...\")\n",
    "    a = torch.randn((matrix_size, matrix_size), device='cuda')\n",
    "    b = torch.randn((matrix_size, matrix_size), device='cuda')\n",
    "\n",
    "    # Perform multiple matrix multiplications to generate load\n",
    "    print(\"Starting computations...\")\n",
    "    start_time = time.time()\n",
    "\n",
    "    for i in range(100):  # Increase iterations to keep GPU active longer\n",
    "        result = torch.matmul(a, b)  # Matrix multiplication on GPU\n",
    "\n",
    "    torch.cuda.synchronize()  # Ensure all operations are complete\n",
    "    elapsed_time = time.time() - start_time\n",
    "    print(f\"Completed computations in {elapsed_time:.2f} seconds.\")\n",
    "\n",
    "    print(\"Workload finished. Check your Task Manager for GPU usage.\")\n"
   ]
  },
  {
   "cell_type": "code",
   "execution_count": 10,
   "metadata": {},
   "outputs": [
    {
     "name": "stdout",
     "output_type": "stream",
     "text": [
      "Using GPU: NVIDIA GeForce RTX 3060 Laptop GPU\n",
      "Initializing workload...\n",
      "Starting computations...\n",
      "Completed computations in 4.02 seconds.\n",
      "Workload finished. Check your Task Manager for GPU usage.\n",
      "Thread starting...\n",
      "Thread resumed after 2 seconds!\n",
      "Using GPU: NVIDIA GeForce RTX 3060 Laptop GPU\n",
      "Initializing workload...\n",
      "Starting computations...\n",
      "Completed computations in 3.94 seconds.\n",
      "Workload finished. Check your Task Manager for GPU usage.\n",
      "Thread starting...\n",
      "Thread resumed after 2 seconds!\n",
      "Using GPU: NVIDIA GeForce RTX 3060 Laptop GPU\n",
      "Initializing workload...\n",
      "Starting computations...\n",
      "Completed computations in 3.96 seconds.\n",
      "Workload finished. Check your Task Manager for GPU usage.\n",
      "Thread starting...\n",
      "Thread resumed after 2 seconds!\n",
      "Using GPU: NVIDIA GeForce RTX 3060 Laptop GPU\n",
      "Initializing workload...\n",
      "Starting computations...\n",
      "Completed computations in 3.94 seconds.\n",
      "Workload finished. Check your Task Manager for GPU usage.\n",
      "Thread starting...\n",
      "Thread resumed after 2 seconds!\n",
      "Using GPU: NVIDIA GeForce RTX 3060 Laptop GPU\n",
      "Initializing workload...\n",
      "Starting computations...\n",
      "Completed computations in 3.91 seconds.\n",
      "Workload finished. Check your Task Manager for GPU usage.\n",
      "Thread starting...\n",
      "Thread resumed after 2 seconds!\n",
      "Using GPU: NVIDIA GeForce RTX 3060 Laptop GPU\n",
      "Initializing workload...\n",
      "Starting computations...\n",
      "Completed computations in 3.96 seconds.\n",
      "Workload finished. Check your Task Manager for GPU usage.\n",
      "Thread starting...\n",
      "Thread resumed after 2 seconds!\n",
      "Using GPU: NVIDIA GeForce RTX 3060 Laptop GPU\n",
      "Initializing workload...\n",
      "Starting computations...\n",
      "Completed computations in 3.94 seconds.\n",
      "Workload finished. Check your Task Manager for GPU usage.\n",
      "Thread starting...\n",
      "Thread resumed after 2 seconds!\n",
      "Using GPU: NVIDIA GeForce RTX 3060 Laptop GPU\n",
      "Initializing workload...\n",
      "Starting computations...\n",
      "Completed computations in 3.90 seconds.\n",
      "Workload finished. Check your Task Manager for GPU usage.\n",
      "Thread starting...\n",
      "Thread resumed after 2 seconds!\n",
      "Using GPU: NVIDIA GeForce RTX 3060 Laptop GPU\n",
      "Initializing workload...\n",
      "Starting computations...\n",
      "Completed computations in 3.96 seconds.\n",
      "Workload finished. Check your Task Manager for GPU usage.\n",
      "Thread starting...\n",
      "Thread resumed after 2 seconds!\n"
     ]
    }
   ],
   "source": [
    "for i in range(1, 10):\n",
    "    testGPUTrigger()\n",
    "    print(\"Thread starting...\")\n",
    "    time.sleep(2)  # Pause the thread for 2 seconds\n",
    "    print(\"Thread resumed after 2 seconds!\")"
   ]
  }
 ],
 "metadata": {
  "kernelspec": {
   "display_name": "base",
   "language": "python",
   "name": "python3"
  },
  "language_info": {
   "codemirror_mode": {
    "name": "ipython",
    "version": 3
   },
   "file_extension": ".py",
   "mimetype": "text/x-python",
   "name": "python",
   "nbconvert_exporter": "python",
   "pygments_lexer": "ipython3",
   "version": "3.12.7"
  }
 },
 "nbformat": 4,
 "nbformat_minor": 2
}
